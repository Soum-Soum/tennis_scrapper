{
 "cells": [
  {
   "cell_type": "code",
   "id": "initial_id",
   "metadata": {
    "collapsed": true,
    "ExecuteTime": {
     "end_time": "2025-06-14T23:55:22.033580Z",
     "start_time": "2025-06-14T23:55:22.018673Z"
    }
   },
   "source": [
    "from enum import StrEnum\n",
    "%load_ext autoreload\n",
    "%autoreload 2\n",
    "\n",
    "import datetime\n",
    "from pydantic import BaseModel\n",
    "from db.models import Match, Player, Surface\n",
    "from db.db_utils import get_table\n",
    "from tqdm import tqdm"
   ],
   "outputs": [
    {
     "name": "stdout",
     "output_type": "stream",
     "text": [
      "The autoreload extension is already loaded. To reload it, use:\n",
      "  %reload_ext autoreload\n"
     ]
    }
   ],
   "execution_count": 58
  },
  {
   "metadata": {
    "ExecuteTime": {
     "end_time": "2025-06-14T23:23:25.566132Z",
     "start_time": "2025-06-14T23:23:08.410112Z"
    }
   },
   "cell_type": "code",
   "source": [
    "matches = get_table(Match)\n",
    "matches = sorted(matches, key=lambda m: m.date)\n",
    "players = get_table(Player)"
   ],
   "id": "bbb08a62b13bf40a",
   "outputs": [],
   "execution_count": 37
  },
  {
   "metadata": {
    "ExecuteTime": {
     "end_time": "2025-06-14T23:55:24.816360Z",
     "start_time": "2025-06-14T23:55:24.801867Z"
    }
   },
   "cell_type": "code",
   "source": [
    "class EloSurface(StrEnum):\n",
    "    CLAY = \"CLAY\"\n",
    "    GRASS = \"GRASS\"\n",
    "    HARD_OR_INDOOR = \"HARD_OR_INDOOR\"\n",
    "    ALL = \"ALL\"\n",
    "\n",
    "class EloRanking(BaseModel):\n",
    "    player_id: str\n",
    "    elo_point: float\n",
    "    date: datetime.date\n",
    "    surface: EloSurface\n"
   ],
   "id": "b92259a383677b98",
   "outputs": [],
   "execution_count": 59
  },
  {
   "metadata": {
    "ExecuteTime": {
     "end_time": "2025-06-14T23:55:27.796143Z",
     "start_time": "2025-06-14T23:55:27.582377Z"
    }
   },
   "cell_type": "code",
   "source": [
    "\n",
    "def get_updated_elo(match: Match, player_id_to_elo_ranking: dict[str, float], K: float = 32):\n",
    "    winner_id = match.player1_id\n",
    "    loser_id = match.player2_id\n",
    "\n",
    "    winner_elo = player_id_to_elo_ranking.get(winner_id, INITIAL_ELO)\n",
    "    loser_elo = player_id_to_elo_ranking.get(loser_id, INITIAL_ELO)\n",
    "\n",
    "    # Calculate expected scores using Elo formula\n",
    "    expected_winner = 1 / (1 + 10 ** ((loser_elo - winner_elo) / 400))\n",
    "    expected_loser = 1 - expected_winner\n",
    "\n",
    "    # Actual results: 1 for winner, 0 for loser\n",
    "    S_winner, S_loser = 1, 0\n",
    "\n",
    "    # Update Elo ratings\n",
    "    winner_elo_new = winner_elo + K * (S_winner - expected_winner)\n",
    "    loser_elo_new = loser_elo + K * (S_loser - expected_loser)\n",
    "\n",
    "    # Save updated ratings back to the dictionary\n",
    "    player_id_to_elo_ranking[winner_id] = winner_elo_new\n",
    "    player_id_to_elo_ranking[loser_id] = loser_elo_new\n",
    "\n",
    "    # Optionally, return the new ratings\n",
    "    return winner_elo_new, loser_elo_new\n",
    "\n",
    "INITIAL_ELO = 1500\n",
    "K = 32\n",
    "\n",
    "def compute_elos(matches: list[Match], K: float, initial_elo: float, elo_surface: EloSurface) -> list[float]:\n",
    "    elo_surface_to_surface = {\n",
    "        EloSurface.CLAY: [Surface.CLAY],\n",
    "        EloSurface.GRASS: [Surface.GRASS],\n",
    "        EloSurface.HARD_OR_INDOOR: [Surface.HARD, Surface.INDOOR],\n",
    "        EloSurface.ALL:[Surface.CLAY, Surface.GRASS, Surface.HARD, Surface.INDOOR]\n",
    "    }\n",
    "\n",
    "    filtered_matches = list(filter(lambda m: m.surface in elo_surface_to_surface[elo_surface], matches))\n",
    "\n",
    "    player_id_to_elo_ranking = {\n",
    "        player.player_id: INITIAL_ELO for player in players\n",
    "    }\n",
    "\n",
    "    all_elos = []\n",
    "    for match in tqdm(matches, desc=f\"Computing ELOs for surface {elo_surface} on {len(matches)} matches\", unit=\"matches\"):\n",
    "        winner_new_elo, loser_new_elo = get_updated_elo(match, player_id_to_elo_ranking, K)\n",
    "        update_date = (match.date + datetime.timedelta(days=1)).date()\n",
    "        all_elos.extend(\n",
    "            [\n",
    "                EloRanking(\n",
    "                    player_id=match.player1_id,\n",
    "                    elo_point=winner_new_elo,\n",
    "                    date=update_date,\n",
    "                ),\n",
    "                EloRanking(\n",
    "                    player_id=match.player2_id,\n",
    "                    elo_point=loser_new_elo,\n",
    "                    date=update_date,\n",
    "                )\n",
    "            ]\n",
    "        )\n",
    "\n",
    "    return all_elos\n",
    "\n",
    "\n",
    "all_elos = []\n",
    "for elo_surface in EloSurface:\n",
    "    elos_for_surface = compute_elos(matches, K, INITIAL_ELO, elo_surface=elo_surface)\n",
    "    all_elos.extend(elos_for_surface)\n",
    "\n",
    "\n",
    "\n",
    "\n"
   ],
   "id": "6cacafec80e752fc",
   "outputs": [
    {
     "ename": "AttributeError",
     "evalue": "'Match' object has no attribute 'surface'",
     "output_type": "error",
     "traceback": [
      "\u001B[31m---------------------------------------------------------------------------\u001B[39m",
      "\u001B[31mAttributeError\u001B[39m                            Traceback (most recent call last)",
      "\u001B[36mCell\u001B[39m\u001B[36m \u001B[39m\u001B[32mIn[60]\u001B[39m\u001B[32m, line 67\u001B[39m\n\u001B[32m     65\u001B[39m all_elos = []\n\u001B[32m     66\u001B[39m \u001B[38;5;28;01mfor\u001B[39;00m elo_surface \u001B[38;5;129;01min\u001B[39;00m EloSurface:\n\u001B[32m---> \u001B[39m\u001B[32m67\u001B[39m     elos_for_surface = \u001B[43mcompute_elos\u001B[49m\u001B[43m(\u001B[49m\u001B[43mmatches\u001B[49m\u001B[43m,\u001B[49m\u001B[43m \u001B[49m\u001B[43mK\u001B[49m\u001B[43m,\u001B[49m\u001B[43m \u001B[49m\u001B[43mINITIAL_ELO\u001B[49m\u001B[43m,\u001B[49m\u001B[43m \u001B[49m\u001B[43melo_surface\u001B[49m\u001B[43m=\u001B[49m\u001B[43melo_surface\u001B[49m\u001B[43m)\u001B[49m\n\u001B[32m     68\u001B[39m     all_elos.extend(elos_for_surface)\n",
      "\u001B[36mCell\u001B[39m\u001B[36m \u001B[39m\u001B[32mIn[60]\u001B[39m\u001B[32m, line 37\u001B[39m, in \u001B[36mcompute_elos\u001B[39m\u001B[34m(matches, K, initial_elo, elo_surface)\u001B[39m\n\u001B[32m     29\u001B[39m \u001B[38;5;28;01mdef\u001B[39;00m\u001B[38;5;250m \u001B[39m\u001B[34mcompute_elos\u001B[39m(matches: \u001B[38;5;28mlist\u001B[39m[Match], K: \u001B[38;5;28mfloat\u001B[39m, initial_elo: \u001B[38;5;28mfloat\u001B[39m, elo_surface: EloSurface) -> \u001B[38;5;28mlist\u001B[39m[\u001B[38;5;28mfloat\u001B[39m]:\n\u001B[32m     30\u001B[39m     elo_surface_to_surface = {\n\u001B[32m     31\u001B[39m         EloSurface.CLAY: [Surface.CLAY],\n\u001B[32m     32\u001B[39m         EloSurface.GRASS: [Surface.GRASS],\n\u001B[32m     33\u001B[39m         EloSurface.HARD_OR_INDOOR: [Surface.HARD, Surface.INDOOR],\n\u001B[32m     34\u001B[39m         EloSurface.ALL:[Surface.CLAY, Surface.GRASS, Surface.HARD, Surface.INDOOR]\n\u001B[32m     35\u001B[39m     }\n\u001B[32m---> \u001B[39m\u001B[32m37\u001B[39m     filtered_matches = \u001B[38;5;28;43mlist\u001B[39;49m\u001B[43m(\u001B[49m\u001B[38;5;28;43mfilter\u001B[39;49m\u001B[43m(\u001B[49m\u001B[38;5;28;43;01mlambda\u001B[39;49;00m\u001B[43m \u001B[49m\u001B[43mm\u001B[49m\u001B[43m:\u001B[49m\u001B[43m \u001B[49m\u001B[43mm\u001B[49m\u001B[43m.\u001B[49m\u001B[43msurface\u001B[49m\u001B[43m \u001B[49m\u001B[38;5;129;43;01min\u001B[39;49;00m\u001B[43m \u001B[49m\u001B[43melo_surface_to_surface\u001B[49m\u001B[43m[\u001B[49m\u001B[43melo_surface\u001B[49m\u001B[43m]\u001B[49m\u001B[43m,\u001B[49m\u001B[43m \u001B[49m\u001B[43mmatches\u001B[49m\u001B[43m)\u001B[49m\u001B[43m)\u001B[49m\n\u001B[32m     39\u001B[39m     player_id_to_elo_ranking = {\n\u001B[32m     40\u001B[39m         player.player_id: INITIAL_ELO \u001B[38;5;28;01mfor\u001B[39;00m player \u001B[38;5;129;01min\u001B[39;00m players\n\u001B[32m     41\u001B[39m     }\n\u001B[32m     43\u001B[39m     all_elos = []\n",
      "\u001B[36mCell\u001B[39m\u001B[36m \u001B[39m\u001B[32mIn[60]\u001B[39m\u001B[32m, line 37\u001B[39m, in \u001B[36mcompute_elos.<locals>.<lambda>\u001B[39m\u001B[34m(m)\u001B[39m\n\u001B[32m     29\u001B[39m \u001B[38;5;28;01mdef\u001B[39;00m\u001B[38;5;250m \u001B[39m\u001B[34mcompute_elos\u001B[39m(matches: \u001B[38;5;28mlist\u001B[39m[Match], K: \u001B[38;5;28mfloat\u001B[39m, initial_elo: \u001B[38;5;28mfloat\u001B[39m, elo_surface: EloSurface) -> \u001B[38;5;28mlist\u001B[39m[\u001B[38;5;28mfloat\u001B[39m]:\n\u001B[32m     30\u001B[39m     elo_surface_to_surface = {\n\u001B[32m     31\u001B[39m         EloSurface.CLAY: [Surface.CLAY],\n\u001B[32m     32\u001B[39m         EloSurface.GRASS: [Surface.GRASS],\n\u001B[32m     33\u001B[39m         EloSurface.HARD_OR_INDOOR: [Surface.HARD, Surface.INDOOR],\n\u001B[32m     34\u001B[39m         EloSurface.ALL:[Surface.CLAY, Surface.GRASS, Surface.HARD, Surface.INDOOR]\n\u001B[32m     35\u001B[39m     }\n\u001B[32m---> \u001B[39m\u001B[32m37\u001B[39m     filtered_matches = \u001B[38;5;28mlist\u001B[39m(\u001B[38;5;28mfilter\u001B[39m(\u001B[38;5;28;01mlambda\u001B[39;00m m: \u001B[43mm\u001B[49m\u001B[43m.\u001B[49m\u001B[43msurface\u001B[49m \u001B[38;5;129;01min\u001B[39;00m elo_surface_to_surface[elo_surface], matches))\n\u001B[32m     39\u001B[39m     player_id_to_elo_ranking = {\n\u001B[32m     40\u001B[39m         player.player_id: INITIAL_ELO \u001B[38;5;28;01mfor\u001B[39;00m player \u001B[38;5;129;01min\u001B[39;00m players\n\u001B[32m     41\u001B[39m     }\n\u001B[32m     43\u001B[39m     all_elos = []\n",
      "\u001B[36mFile \u001B[39m\u001B[32m~/dev/tennis_scrapper/.venv/lib/python3.13/site-packages/pydantic/main.py:991\u001B[39m, in \u001B[36mBaseModel.__getattr__\u001B[39m\u001B[34m(self, item)\u001B[39m\n\u001B[32m    988\u001B[39m     \u001B[38;5;28;01mreturn\u001B[39;00m \u001B[38;5;28msuper\u001B[39m().\u001B[34m__getattribute__\u001B[39m(item)  \u001B[38;5;66;03m# Raises AttributeError if appropriate\u001B[39;00m\n\u001B[32m    989\u001B[39m \u001B[38;5;28;01melse\u001B[39;00m:\n\u001B[32m    990\u001B[39m     \u001B[38;5;66;03m# this is the current error\u001B[39;00m\n\u001B[32m--> \u001B[39m\u001B[32m991\u001B[39m     \u001B[38;5;28;01mraise\u001B[39;00m \u001B[38;5;167;01mAttributeError\u001B[39;00m(\u001B[33mf\u001B[39m\u001B[33m'\u001B[39m\u001B[38;5;132;01m{\u001B[39;00m\u001B[38;5;28mtype\u001B[39m(\u001B[38;5;28mself\u001B[39m).\u001B[34m__name__\u001B[39m\u001B[38;5;132;01m!r}\u001B[39;00m\u001B[33m object has no attribute \u001B[39m\u001B[38;5;132;01m{\u001B[39;00mitem\u001B[38;5;132;01m!r}\u001B[39;00m\u001B[33m'\u001B[39m)\n",
      "\u001B[31mAttributeError\u001B[39m: 'Match' object has no attribute 'surface'"
     ]
    }
   ],
   "execution_count": 60
  },
  {
   "metadata": {
    "ExecuteTime": {
     "end_time": "2025-06-14T23:28:47.176702Z",
     "start_time": "2025-06-14T23:28:46.861548Z"
    }
   },
   "cell_type": "code",
   "source": [
    "from db.db_utils import get_player_by_name\n",
    "\n",
    "player = get_player_by_name(\"Alcaraz\")\n",
    "\n",
    "elo_rankings = list(\n",
    "    sorted(\n",
    "        filter(lambda elo: elo.player_id == player.player_id, all_elos),\n",
    "        key=lambda elo: elo.date\n",
    "    )\n",
    ")\n",
    "\n",
    "import pandas as pd\n",
    "\n",
    "df = pd.DataFrame(list(map(lambda x: x.model_dump(), elo_rankings)))\n",
    "df.plot.line(\n",
    "    x=\"date\",\n",
    "    y=\"elo_point\",\n",
    "    title=f\"Elo Point : {player.name}\",\n",
    ")"
   ],
   "id": "b04088443fd9d7bc",
   "outputs": [
    {
     "data": {
      "text/plain": [
       "<Axes: title={'center': 'Elo Point : Alcaraz Carlos'}, xlabel='date'>"
      ]
     },
     "execution_count": 54,
     "metadata": {},
     "output_type": "execute_result"
    },
    {
     "data": {
      "text/plain": [
       "<Figure size 640x480 with 1 Axes>"
      ],
      "image/png": "[encoded data removed]"
     },
     "metadata": {},
     "output_type": "display_data"
    }
   ],
   "execution_count": 54
  },
  {
   "metadata": {},
   "cell_type": "code",
   "outputs": [],
   "execution_count": null,
   "source": "",
   "id": "9db543a83845b16d"
  }
 ],
 "metadata": {
  "kernelspec": {
   "display_name": "Python 3",
   "language": "python",
   "name": "python3"
  },
  "language_info": {
   "codemirror_mode": {
    "name": "ipython",
    "version": 2
   },
   "file_extension": ".py",
   "mimetype": "text/x-python",
   "name": "python",
   "nbconvert_exporter": "python",
   "pygments_lexer": "ipython2",
   "version": "2.7.6"
  }
 },
 "nbformat": 4,
 "nbformat_minor": 5
}
